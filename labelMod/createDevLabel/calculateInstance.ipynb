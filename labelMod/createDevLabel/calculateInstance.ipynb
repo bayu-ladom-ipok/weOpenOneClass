{
 "cells": [
  {
   "cell_type": "code",
   "execution_count": 1,
   "metadata": {},
   "outputs": [],
   "source": [
    "import pandas as pd \n",
    "import matplotlib.pyplot as plt\n",
    "import numpy as np\n",
    "import pandasql as pdsql\n",
    "%matplotlib inline\n",
    "dev_only = pd.read_csv(\"dev.csv\") \n",
    "allData =  pd.read_csv(\"allData.csv\") "
   ]
  },
  {
   "cell_type": "code",
   "execution_count": 2,
   "metadata": {},
   "outputs": [],
   "source": [
    "pysql = lambda q: pdsql.sqldf(q, globals())"
   ]
  },
  {
   "cell_type": "code",
   "execution_count": 3,
   "metadata": {},
   "outputs": [],
   "source": [
    "dev_only.columns = dev_only.columns.str.replace(' ', '')\n",
    "allData.columns = allData.columns.str.replace(' ', '') "
   ]
  },
  {
   "cell_type": "code",
   "execution_count": 4,
   "metadata": {},
   "outputs": [
    {
     "data": {
      "text/html": [
       "<div>\n",
       "<style scoped>\n",
       "    .dataframe tbody tr th:only-of-type {\n",
       "        vertical-align: middle;\n",
       "    }\n",
       "\n",
       "    .dataframe tbody tr th {\n",
       "        vertical-align: top;\n",
       "    }\n",
       "\n",
       "    .dataframe thead th {\n",
       "        text-align: right;\n",
       "    }\n",
       "</style>\n",
       "<table border=\"1\" class=\"dataframe\">\n",
       "  <thead>\n",
       "    <tr style=\"text-align: right;\">\n",
       "      <th></th>\n",
       "      <th>Unnamed:0</th>\n",
       "      <th>ImageIndex</th>\n",
       "      <th>PatientID</th>\n",
       "      <th>FindingLabels</th>\n",
       "      <th>Atelectasis</th>\n",
       "      <th>Cardiomegaly</th>\n",
       "      <th>Effusion</th>\n",
       "      <th>Infiltration</th>\n",
       "      <th>Mass</th>\n",
       "      <th>Nodule</th>\n",
       "      <th>Pneumonia</th>\n",
       "      <th>Pneumothorax</th>\n",
       "      <th>Consolidation</th>\n",
       "      <th>Edema</th>\n",
       "      <th>Emphysema</th>\n",
       "      <th>Fibrosis</th>\n",
       "      <th>Pleural_Thickening</th>\n",
       "      <th>Hernia</th>\n",
       "    </tr>\n",
       "  </thead>\n",
       "  <tbody>\n",
       "    <tr>\n",
       "      <th>0</th>\n",
       "      <td>0</td>\n",
       "      <td>00000001_000.png</td>\n",
       "      <td>1</td>\n",
       "      <td>Cardiomegaly</td>\n",
       "      <td>0</td>\n",
       "      <td>1</td>\n",
       "      <td>0</td>\n",
       "      <td>0</td>\n",
       "      <td>0</td>\n",
       "      <td>0</td>\n",
       "      <td>0</td>\n",
       "      <td>0</td>\n",
       "      <td>0</td>\n",
       "      <td>0</td>\n",
       "      <td>0</td>\n",
       "      <td>0</td>\n",
       "      <td>0</td>\n",
       "      <td>0</td>\n",
       "    </tr>\n",
       "    <tr>\n",
       "      <th>1</th>\n",
       "      <td>1</td>\n",
       "      <td>00000001_001.png</td>\n",
       "      <td>1</td>\n",
       "      <td>Cardiomegaly|Emphysema</td>\n",
       "      <td>0</td>\n",
       "      <td>1</td>\n",
       "      <td>0</td>\n",
       "      <td>0</td>\n",
       "      <td>0</td>\n",
       "      <td>0</td>\n",
       "      <td>0</td>\n",
       "      <td>0</td>\n",
       "      <td>0</td>\n",
       "      <td>0</td>\n",
       "      <td>1</td>\n",
       "      <td>0</td>\n",
       "      <td>0</td>\n",
       "      <td>0</td>\n",
       "    </tr>\n",
       "    <tr>\n",
       "      <th>2</th>\n",
       "      <td>2</td>\n",
       "      <td>00000001_002.png</td>\n",
       "      <td>1</td>\n",
       "      <td>Cardiomegaly|Effusion</td>\n",
       "      <td>0</td>\n",
       "      <td>1</td>\n",
       "      <td>1</td>\n",
       "      <td>0</td>\n",
       "      <td>0</td>\n",
       "      <td>0</td>\n",
       "      <td>0</td>\n",
       "      <td>0</td>\n",
       "      <td>0</td>\n",
       "      <td>0</td>\n",
       "      <td>0</td>\n",
       "      <td>0</td>\n",
       "      <td>0</td>\n",
       "      <td>0</td>\n",
       "    </tr>\n",
       "    <tr>\n",
       "      <th>3</th>\n",
       "      <td>3</td>\n",
       "      <td>00000002_000.png</td>\n",
       "      <td>2</td>\n",
       "      <td>No Finding</td>\n",
       "      <td>0</td>\n",
       "      <td>0</td>\n",
       "      <td>0</td>\n",
       "      <td>0</td>\n",
       "      <td>0</td>\n",
       "      <td>0</td>\n",
       "      <td>0</td>\n",
       "      <td>0</td>\n",
       "      <td>0</td>\n",
       "      <td>0</td>\n",
       "      <td>0</td>\n",
       "      <td>0</td>\n",
       "      <td>0</td>\n",
       "      <td>0</td>\n",
       "    </tr>\n",
       "    <tr>\n",
       "      <th>4</th>\n",
       "      <td>4</td>\n",
       "      <td>00000003_000.png</td>\n",
       "      <td>3</td>\n",
       "      <td>Hernia</td>\n",
       "      <td>0</td>\n",
       "      <td>0</td>\n",
       "      <td>0</td>\n",
       "      <td>0</td>\n",
       "      <td>0</td>\n",
       "      <td>0</td>\n",
       "      <td>0</td>\n",
       "      <td>0</td>\n",
       "      <td>0</td>\n",
       "      <td>0</td>\n",
       "      <td>0</td>\n",
       "      <td>0</td>\n",
       "      <td>0</td>\n",
       "      <td>1</td>\n",
       "    </tr>\n",
       "  </tbody>\n",
       "</table>\n",
       "</div>"
      ],
      "text/plain": [
       "   Unnamed:0        ImageIndex  PatientID           FindingLabels  \\\n",
       "0          0  00000001_000.png          1            Cardiomegaly   \n",
       "1          1  00000001_001.png          1  Cardiomegaly|Emphysema   \n",
       "2          2  00000001_002.png          1   Cardiomegaly|Effusion   \n",
       "3          3  00000002_000.png          2              No Finding   \n",
       "4          4  00000003_000.png          3                  Hernia   \n",
       "\n",
       "   Atelectasis  Cardiomegaly  Effusion  Infiltration  Mass  Nodule  Pneumonia  \\\n",
       "0            0             1         0             0     0       0          0   \n",
       "1            0             1         0             0     0       0          0   \n",
       "2            0             1         1             0     0       0          0   \n",
       "3            0             0         0             0     0       0          0   \n",
       "4            0             0         0             0     0       0          0   \n",
       "\n",
       "   Pneumothorax  Consolidation  Edema  Emphysema  Fibrosis  \\\n",
       "0             0              0      0          0         0   \n",
       "1             0              0      0          1         0   \n",
       "2             0              0      0          0         0   \n",
       "3             0              0      0          0         0   \n",
       "4             0              0      0          0         0   \n",
       "\n",
       "   Pleural_Thickening  Hernia  \n",
       "0                   0       0  \n",
       "1                   0       0  \n",
       "2                   0       0  \n",
       "3                   0       0  \n",
       "4                   0       1  "
      ]
     },
     "execution_count": 4,
     "metadata": {},
     "output_type": "execute_result"
    }
   ],
   "source": [
    "allData.head()"
   ]
  },
  {
   "cell_type": "code",
   "execution_count": 5,
   "metadata": {},
   "outputs": [],
   "source": [
    "mystr = \"select count(ImageIndex) from allData\""
   ]
  },
  {
   "cell_type": "code",
   "execution_count": 6,
   "metadata": {},
   "outputs": [
    {
     "data": {
      "text/html": [
       "<div>\n",
       "<style scoped>\n",
       "    .dataframe tbody tr th:only-of-type {\n",
       "        vertical-align: middle;\n",
       "    }\n",
       "\n",
       "    .dataframe tbody tr th {\n",
       "        vertical-align: top;\n",
       "    }\n",
       "\n",
       "    .dataframe thead th {\n",
       "        text-align: right;\n",
       "    }\n",
       "</style>\n",
       "<table border=\"1\" class=\"dataframe\">\n",
       "  <thead>\n",
       "    <tr style=\"text-align: right;\">\n",
       "      <th></th>\n",
       "      <th>count(ImageIndex)</th>\n",
       "    </tr>\n",
       "  </thead>\n",
       "  <tbody>\n",
       "    <tr>\n",
       "      <th>0</th>\n",
       "      <td>112120</td>\n",
       "    </tr>\n",
       "  </tbody>\n",
       "</table>\n",
       "</div>"
      ],
      "text/plain": [
       "   count(ImageIndex)\n",
       "0             112120"
      ]
     },
     "execution_count": 6,
     "metadata": {},
     "output_type": "execute_result"
    }
   ],
   "source": [
    "dataCount = pysql(mystr)\n",
    "dataCount"
   ]
  },
  {
   "cell_type": "code",
   "execution_count": 7,
   "metadata": {},
   "outputs": [],
   "source": [
    "mystr = \"select count(ImageIndex) from dev_only\""
   ]
  },
  {
   "cell_type": "code",
   "execution_count": 8,
   "metadata": {},
   "outputs": [
    {
     "data": {
      "text/html": [
       "<div>\n",
       "<style scoped>\n",
       "    .dataframe tbody tr th:only-of-type {\n",
       "        vertical-align: middle;\n",
       "    }\n",
       "\n",
       "    .dataframe tbody tr th {\n",
       "        vertical-align: top;\n",
       "    }\n",
       "\n",
       "    .dataframe thead th {\n",
       "        text-align: right;\n",
       "    }\n",
       "</style>\n",
       "<table border=\"1\" class=\"dataframe\">\n",
       "  <thead>\n",
       "    <tr style=\"text-align: right;\">\n",
       "      <th></th>\n",
       "      <th>count(ImageIndex)</th>\n",
       "    </tr>\n",
       "  </thead>\n",
       "  <tbody>\n",
       "    <tr>\n",
       "      <th>0</th>\n",
       "      <td>11219</td>\n",
       "    </tr>\n",
       "  </tbody>\n",
       "</table>\n",
       "</div>"
      ],
      "text/plain": [
       "   count(ImageIndex)\n",
       "0              11219"
      ]
     },
     "execution_count": 8,
     "metadata": {},
     "output_type": "execute_result"
    }
   ],
   "source": [
    "dev_onlyCount = pysql(mystr)\n",
    "dev_onlyCount"
   ]
  },
  {
   "cell_type": "code",
   "execution_count": 9,
   "metadata": {},
   "outputs": [],
   "source": [
    "dev_onlyCols = list(dev_only.columns.values)"
   ]
  },
  {
   "cell_type": "code",
   "execution_count": 10,
   "metadata": {},
   "outputs": [
    {
     "data": {
      "text/plain": [
       "['ImageIndex',\n",
       " 'Atelectasis',\n",
       " 'Cardiomegaly',\n",
       " 'Effusion',\n",
       " 'Infiltration',\n",
       " 'Mass',\n",
       " 'Nodule',\n",
       " 'Pneumonia',\n",
       " 'Pneumothorax',\n",
       " 'Consolidation',\n",
       " 'Edema',\n",
       " 'Emphysema',\n",
       " 'Fibrosis',\n",
       " 'Pleural_Thickening',\n",
       " 'Hernia']"
      ]
     },
     "execution_count": 10,
     "metadata": {},
     "output_type": "execute_result"
    }
   ],
   "source": [
    "dev_onlyCols"
   ]
  },
  {
   "cell_type": "code",
   "execution_count": 11,
   "metadata": {},
   "outputs": [
    {
     "data": {
      "text/plain": [
       "'ImageIndex'"
      ]
     },
     "execution_count": 11,
     "metadata": {},
     "output_type": "execute_result"
    }
   ],
   "source": [
    "dev_onlyCols.pop(0)"
   ]
  },
  {
   "cell_type": "code",
   "execution_count": 12,
   "metadata": {},
   "outputs": [
    {
     "data": {
      "text/plain": [
       "['Atelectasis',\n",
       " 'Cardiomegaly',\n",
       " 'Effusion',\n",
       " 'Infiltration',\n",
       " 'Mass',\n",
       " 'Nodule',\n",
       " 'Pneumonia',\n",
       " 'Pneumothorax',\n",
       " 'Consolidation',\n",
       " 'Edema',\n",
       " 'Emphysema',\n",
       " 'Fibrosis',\n",
       " 'Pleural_Thickening',\n",
       " 'Hernia']"
      ]
     },
     "execution_count": 12,
     "metadata": {},
     "output_type": "execute_result"
    }
   ],
   "source": [
    "dev_onlyCols"
   ]
  },
  {
   "cell_type": "code",
   "execution_count": 13,
   "metadata": {},
   "outputs": [
    {
     "name": "stdout",
     "output_type": "stream",
     "text": [
      "select count(Atelectasis) from dev_only where dev_only.Atelectasis == 1 and dev_only.Cardiomegaly == 0 and dev_only.Effusion == 0 and dev_only.Infiltration == 0 and dev_only.Mass == 0 and dev_only.Nodule == 0 and dev_only.Pneumonia == 0 and dev_only.Pneumothorax == 0 and dev_only.Consolidation == 0 and dev_only.Edema == 0 and dev_only.Emphysema == 0 and dev_only.Fibrosis == 0 and dev_only.Pleural_Thickening == 0 and dev_only.Hernia == 0\n",
      "select count(Cardiomegaly) from dev_only where dev_only.Cardiomegaly == 1 and dev_only.Atelectasis == 0 and dev_only.Effusion == 0 and dev_only.Infiltration == 0 and dev_only.Mass == 0 and dev_only.Nodule == 0 and dev_only.Pneumonia == 0 and dev_only.Pneumothorax == 0 and dev_only.Consolidation == 0 and dev_only.Edema == 0 and dev_only.Emphysema == 0 and dev_only.Fibrosis == 0 and dev_only.Pleural_Thickening == 0 and dev_only.Hernia == 0\n",
      "select count(Effusion) from dev_only where dev_only.Effusion == 1 and dev_only.Atelectasis == 0 and dev_only.Cardiomegaly == 0 and dev_only.Infiltration == 0 and dev_only.Mass == 0 and dev_only.Nodule == 0 and dev_only.Pneumonia == 0 and dev_only.Pneumothorax == 0 and dev_only.Consolidation == 0 and dev_only.Edema == 0 and dev_only.Emphysema == 0 and dev_only.Fibrosis == 0 and dev_only.Pleural_Thickening == 0 and dev_only.Hernia == 0\n",
      "select count(Infiltration) from dev_only where dev_only.Infiltration == 1 and dev_only.Atelectasis == 0 and dev_only.Cardiomegaly == 0 and dev_only.Effusion == 0 and dev_only.Mass == 0 and dev_only.Nodule == 0 and dev_only.Pneumonia == 0 and dev_only.Pneumothorax == 0 and dev_only.Consolidation == 0 and dev_only.Edema == 0 and dev_only.Emphysema == 0 and dev_only.Fibrosis == 0 and dev_only.Pleural_Thickening == 0 and dev_only.Hernia == 0\n",
      "select count(Mass) from dev_only where dev_only.Mass == 1 and dev_only.Atelectasis == 0 and dev_only.Cardiomegaly == 0 and dev_only.Effusion == 0 and dev_only.Infiltration == 0 and dev_only.Nodule == 0 and dev_only.Pneumonia == 0 and dev_only.Pneumothorax == 0 and dev_only.Consolidation == 0 and dev_only.Edema == 0 and dev_only.Emphysema == 0 and dev_only.Fibrosis == 0 and dev_only.Pleural_Thickening == 0 and dev_only.Hernia == 0\n",
      "select count(Nodule) from dev_only where dev_only.Nodule == 1 and dev_only.Atelectasis == 0 and dev_only.Cardiomegaly == 0 and dev_only.Effusion == 0 and dev_only.Infiltration == 0 and dev_only.Mass == 0 and dev_only.Pneumonia == 0 and dev_only.Pneumothorax == 0 and dev_only.Consolidation == 0 and dev_only.Edema == 0 and dev_only.Emphysema == 0 and dev_only.Fibrosis == 0 and dev_only.Pleural_Thickening == 0 and dev_only.Hernia == 0\n",
      "select count(Pneumonia) from dev_only where dev_only.Pneumonia == 1 and dev_only.Atelectasis == 0 and dev_only.Cardiomegaly == 0 and dev_only.Effusion == 0 and dev_only.Infiltration == 0 and dev_only.Mass == 0 and dev_only.Nodule == 0 and dev_only.Pneumothorax == 0 and dev_only.Consolidation == 0 and dev_only.Edema == 0 and dev_only.Emphysema == 0 and dev_only.Fibrosis == 0 and dev_only.Pleural_Thickening == 0 and dev_only.Hernia == 0\n",
      "select count(Pneumothorax) from dev_only where dev_only.Pneumothorax == 1 and dev_only.Atelectasis == 0 and dev_only.Cardiomegaly == 0 and dev_only.Effusion == 0 and dev_only.Infiltration == 0 and dev_only.Mass == 0 and dev_only.Nodule == 0 and dev_only.Pneumonia == 0 and dev_only.Consolidation == 0 and dev_only.Edema == 0 and dev_only.Emphysema == 0 and dev_only.Fibrosis == 0 and dev_only.Pleural_Thickening == 0 and dev_only.Hernia == 0\n",
      "select count(Consolidation) from dev_only where dev_only.Consolidation == 1 and dev_only.Atelectasis == 0 and dev_only.Cardiomegaly == 0 and dev_only.Effusion == 0 and dev_only.Infiltration == 0 and dev_only.Mass == 0 and dev_only.Nodule == 0 and dev_only.Pneumonia == 0 and dev_only.Pneumothorax == 0 and dev_only.Edema == 0 and dev_only.Emphysema == 0 and dev_only.Fibrosis == 0 and dev_only.Pleural_Thickening == 0 and dev_only.Hernia == 0\n",
      "select count(Edema) from dev_only where dev_only.Edema == 1 and dev_only.Atelectasis == 0 and dev_only.Cardiomegaly == 0 and dev_only.Effusion == 0 and dev_only.Infiltration == 0 and dev_only.Mass == 0 and dev_only.Nodule == 0 and dev_only.Pneumonia == 0 and dev_only.Pneumothorax == 0 and dev_only.Consolidation == 0 and dev_only.Emphysema == 0 and dev_only.Fibrosis == 0 and dev_only.Pleural_Thickening == 0 and dev_only.Hernia == 0\n",
      "select count(Emphysema) from dev_only where dev_only.Emphysema == 1 and dev_only.Atelectasis == 0 and dev_only.Cardiomegaly == 0 and dev_only.Effusion == 0 and dev_only.Infiltration == 0 and dev_only.Mass == 0 and dev_only.Nodule == 0 and dev_only.Pneumonia == 0 and dev_only.Pneumothorax == 0 and dev_only.Consolidation == 0 and dev_only.Edema == 0 and dev_only.Fibrosis == 0 and dev_only.Pleural_Thickening == 0 and dev_only.Hernia == 0\n",
      "select count(Fibrosis) from dev_only where dev_only.Fibrosis == 1 and dev_only.Atelectasis == 0 and dev_only.Cardiomegaly == 0 and dev_only.Effusion == 0 and dev_only.Infiltration == 0 and dev_only.Mass == 0 and dev_only.Nodule == 0 and dev_only.Pneumonia == 0 and dev_only.Pneumothorax == 0 and dev_only.Consolidation == 0 and dev_only.Edema == 0 and dev_only.Emphysema == 0 and dev_only.Pleural_Thickening == 0 and dev_only.Hernia == 0\n",
      "select count(Pleural_Thickening) from dev_only where dev_only.Pleural_Thickening == 1 and dev_only.Atelectasis == 0 and dev_only.Cardiomegaly == 0 and dev_only.Effusion == 0 and dev_only.Infiltration == 0 and dev_only.Mass == 0 and dev_only.Nodule == 0 and dev_only.Pneumonia == 0 and dev_only.Pneumothorax == 0 and dev_only.Consolidation == 0 and dev_only.Edema == 0 and dev_only.Emphysema == 0 and dev_only.Fibrosis == 0 and dev_only.Hernia == 0\n",
      "select count(Hernia) from dev_only where dev_only.Hernia == 1 and dev_only.Atelectasis == 0 and dev_only.Cardiomegaly == 0 and dev_only.Effusion == 0 and dev_only.Infiltration == 0 and dev_only.Mass == 0 and dev_only.Nodule == 0 and dev_only.Pneumonia == 0 and dev_only.Pneumothorax == 0 and dev_only.Consolidation == 0 and dev_only.Edema == 0 and dev_only.Emphysema == 0 and dev_only.Fibrosis == 0 and dev_only.Pleural_Thickening == 0\n"
     ]
    }
   ],
   "source": [
    "countdev = []\n",
    "c = len(dev_onlyCols)\n",
    "for i in range(c):\n",
    "    name = dev_onlyCols[i]\n",
    "    myStr = \"select count(\"+name+\") from dev_only where dev_only.\"+name+\" == 1\"\n",
    "    for k in range(c):\n",
    "        tmp1 = dev_onlyCols[k] \n",
    "        if tmp1 != name:\n",
    "            tmp2 = \" and dev_only.\"+tmp1+\" == 0\"\n",
    "            myStr = myStr + tmp2\n",
    "    print(myStr)\n",
    "    count = pysql(myStr)\n",
    "    #print(count)\n",
    "    countdev.append(int(count[\"count(\"+name+\")\"]))"
   ]
  },
  {
   "cell_type": "code",
   "execution_count": 14,
   "metadata": {},
   "outputs": [
    {
     "data": {
      "text/plain": [
       "[444, 97, 394, 995, 244, 236, 38, 208, 121, 45, 69, 82, 121, 18]"
      ]
     },
     "execution_count": 14,
     "metadata": {},
     "output_type": "execute_result"
    }
   ],
   "source": [
    "countdev"
   ]
  },
  {
   "cell_type": "code",
   "execution_count": 15,
   "metadata": {},
   "outputs": [
    {
     "data": {
      "text/plain": [
       "array([ 18,  38,  45,  69,  82,  97, 121, 121, 208, 236, 244, 394, 444,\n",
       "       995])"
      ]
     },
     "execution_count": 15,
     "metadata": {},
     "output_type": "execute_result"
    }
   ],
   "source": [
    "ct  = np.sort(countdev)\n",
    "ct "
   ]
  },
  {
   "cell_type": "code",
   "execution_count": 16,
   "metadata": {},
   "outputs": [
    {
     "data": {
      "text/plain": [
       "3112"
      ]
     },
     "execution_count": 16,
     "metadata": {},
     "output_type": "execute_result"
    }
   ],
   "source": [
    "N = np.sum(countdev)\n",
    "N"
   ]
  },
  {
   "cell_type": "code",
   "execution_count": 17,
   "metadata": {},
   "outputs": [
    {
     "name": "stdout",
     "output_type": "stream",
     "text": [
      "select * from dev_only where dev_only.Atelectasis == 1 and dev_only.Cardiomegaly == 0 and dev_only.Effusion == 0 and dev_only.Infiltration == 0 and dev_only.Mass == 0 and dev_only.Nodule == 0 and dev_only.Pneumonia == 0 and dev_only.Pneumothorax == 0 and dev_only.Consolidation == 0 and dev_only.Edema == 0 and dev_only.Emphysema == 0 and dev_only.Fibrosis == 0 and dev_only.Pleural_Thickening == 0 and dev_only.Hernia == 0\n",
      "select * from dev_only where dev_only.Cardiomegaly == 1 and dev_only.Atelectasis == 0 and dev_only.Effusion == 0 and dev_only.Infiltration == 0 and dev_only.Mass == 0 and dev_only.Nodule == 0 and dev_only.Pneumonia == 0 and dev_only.Pneumothorax == 0 and dev_only.Consolidation == 0 and dev_only.Edema == 0 and dev_only.Emphysema == 0 and dev_only.Fibrosis == 0 and dev_only.Pleural_Thickening == 0 and dev_only.Hernia == 0\n",
      "select * from dev_only where dev_only.Effusion == 1 and dev_only.Atelectasis == 0 and dev_only.Cardiomegaly == 0 and dev_only.Infiltration == 0 and dev_only.Mass == 0 and dev_only.Nodule == 0 and dev_only.Pneumonia == 0 and dev_only.Pneumothorax == 0 and dev_only.Consolidation == 0 and dev_only.Edema == 0 and dev_only.Emphysema == 0 and dev_only.Fibrosis == 0 and dev_only.Pleural_Thickening == 0 and dev_only.Hernia == 0\n",
      "select * from dev_only where dev_only.Infiltration == 1 and dev_only.Atelectasis == 0 and dev_only.Cardiomegaly == 0 and dev_only.Effusion == 0 and dev_only.Mass == 0 and dev_only.Nodule == 0 and dev_only.Pneumonia == 0 and dev_only.Pneumothorax == 0 and dev_only.Consolidation == 0 and dev_only.Edema == 0 and dev_only.Emphysema == 0 and dev_only.Fibrosis == 0 and dev_only.Pleural_Thickening == 0 and dev_only.Hernia == 0\n",
      "select * from dev_only where dev_only.Mass == 1 and dev_only.Atelectasis == 0 and dev_only.Cardiomegaly == 0 and dev_only.Effusion == 0 and dev_only.Infiltration == 0 and dev_only.Nodule == 0 and dev_only.Pneumonia == 0 and dev_only.Pneumothorax == 0 and dev_only.Consolidation == 0 and dev_only.Edema == 0 and dev_only.Emphysema == 0 and dev_only.Fibrosis == 0 and dev_only.Pleural_Thickening == 0 and dev_only.Hernia == 0\n",
      "select * from dev_only where dev_only.Nodule == 1 and dev_only.Atelectasis == 0 and dev_only.Cardiomegaly == 0 and dev_only.Effusion == 0 and dev_only.Infiltration == 0 and dev_only.Mass == 0 and dev_only.Pneumonia == 0 and dev_only.Pneumothorax == 0 and dev_only.Consolidation == 0 and dev_only.Edema == 0 and dev_only.Emphysema == 0 and dev_only.Fibrosis == 0 and dev_only.Pleural_Thickening == 0 and dev_only.Hernia == 0\n",
      "select * from dev_only where dev_only.Pneumonia == 1 and dev_only.Atelectasis == 0 and dev_only.Cardiomegaly == 0 and dev_only.Effusion == 0 and dev_only.Infiltration == 0 and dev_only.Mass == 0 and dev_only.Nodule == 0 and dev_only.Pneumothorax == 0 and dev_only.Consolidation == 0 and dev_only.Edema == 0 and dev_only.Emphysema == 0 and dev_only.Fibrosis == 0 and dev_only.Pleural_Thickening == 0 and dev_only.Hernia == 0\n",
      "select * from dev_only where dev_only.Pneumothorax == 1 and dev_only.Atelectasis == 0 and dev_only.Cardiomegaly == 0 and dev_only.Effusion == 0 and dev_only.Infiltration == 0 and dev_only.Mass == 0 and dev_only.Nodule == 0 and dev_only.Pneumonia == 0 and dev_only.Consolidation == 0 and dev_only.Edema == 0 and dev_only.Emphysema == 0 and dev_only.Fibrosis == 0 and dev_only.Pleural_Thickening == 0 and dev_only.Hernia == 0\n",
      "select * from dev_only where dev_only.Consolidation == 1 and dev_only.Atelectasis == 0 and dev_only.Cardiomegaly == 0 and dev_only.Effusion == 0 and dev_only.Infiltration == 0 and dev_only.Mass == 0 and dev_only.Nodule == 0 and dev_only.Pneumonia == 0 and dev_only.Pneumothorax == 0 and dev_only.Edema == 0 and dev_only.Emphysema == 0 and dev_only.Fibrosis == 0 and dev_only.Pleural_Thickening == 0 and dev_only.Hernia == 0\n",
      "select * from dev_only where dev_only.Edema == 1 and dev_only.Atelectasis == 0 and dev_only.Cardiomegaly == 0 and dev_only.Effusion == 0 and dev_only.Infiltration == 0 and dev_only.Mass == 0 and dev_only.Nodule == 0 and dev_only.Pneumonia == 0 and dev_only.Pneumothorax == 0 and dev_only.Consolidation == 0 and dev_only.Emphysema == 0 and dev_only.Fibrosis == 0 and dev_only.Pleural_Thickening == 0 and dev_only.Hernia == 0\n",
      "select * from dev_only where dev_only.Emphysema == 1 and dev_only.Atelectasis == 0 and dev_only.Cardiomegaly == 0 and dev_only.Effusion == 0 and dev_only.Infiltration == 0 and dev_only.Mass == 0 and dev_only.Nodule == 0 and dev_only.Pneumonia == 0 and dev_only.Pneumothorax == 0 and dev_only.Consolidation == 0 and dev_only.Edema == 0 and dev_only.Fibrosis == 0 and dev_only.Pleural_Thickening == 0 and dev_only.Hernia == 0\n",
      "select * from dev_only where dev_only.Fibrosis == 1 and dev_only.Atelectasis == 0 and dev_only.Cardiomegaly == 0 and dev_only.Effusion == 0 and dev_only.Infiltration == 0 and dev_only.Mass == 0 and dev_only.Nodule == 0 and dev_only.Pneumonia == 0 and dev_only.Pneumothorax == 0 and dev_only.Consolidation == 0 and dev_only.Edema == 0 and dev_only.Emphysema == 0 and dev_only.Pleural_Thickening == 0 and dev_only.Hernia == 0\n",
      "select * from dev_only where dev_only.Pleural_Thickening == 1 and dev_only.Atelectasis == 0 and dev_only.Cardiomegaly == 0 and dev_only.Effusion == 0 and dev_only.Infiltration == 0 and dev_only.Mass == 0 and dev_only.Nodule == 0 and dev_only.Pneumonia == 0 and dev_only.Pneumothorax == 0 and dev_only.Consolidation == 0 and dev_only.Edema == 0 and dev_only.Emphysema == 0 and dev_only.Fibrosis == 0 and dev_only.Hernia == 0\n",
      "select * from dev_only where dev_only.Hernia == 1 and dev_only.Atelectasis == 0 and dev_only.Cardiomegaly == 0 and dev_only.Effusion == 0 and dev_only.Infiltration == 0 and dev_only.Mass == 0 and dev_only.Nodule == 0 and dev_only.Pneumonia == 0 and dev_only.Pneumothorax == 0 and dev_only.Consolidation == 0 and dev_only.Edema == 0 and dev_only.Emphysema == 0 and dev_only.Fibrosis == 0 and dev_only.Pleural_Thickening == 0\n"
     ]
    }
   ],
   "source": [
    "import pandas as pd \n",
    "c = len(dev_onlyCols)\n",
    "for i in range(c):\n",
    "    cleanIndices = []\n",
    "    name = dev_onlyCols[i]\n",
    "    myStr = \"select * from dev_only where dev_only.\"+name+\" == 1\"\n",
    "    for k in range(c):\n",
    "        tmp1 = dev_onlyCols[k] \n",
    "        if tmp1 != name:\n",
    "            tmp2 = \" and dev_only.\"+tmp1+\" == 0\"\n",
    "            myStr = myStr + tmp2\n",
    "    print(myStr)\n",
    "    theIndices = pysql(myStr)\n",
    "    theIndices.to_csv(\"clean/\"+name+\".csv\",index=False,sep=',')"
   ]
  },
  {
   "cell_type": "code",
   "execution_count": 18,
   "metadata": {},
   "outputs": [],
   "source": [
    "hernia = pd.read_csv(\"clean/Hernia.csv\") "
   ]
  },
  {
   "cell_type": "code",
   "execution_count": 19,
   "metadata": {},
   "outputs": [
    {
     "data": {
      "text/html": [
       "<div>\n",
       "<style scoped>\n",
       "    .dataframe tbody tr th:only-of-type {\n",
       "        vertical-align: middle;\n",
       "    }\n",
       "\n",
       "    .dataframe tbody tr th {\n",
       "        vertical-align: top;\n",
       "    }\n",
       "\n",
       "    .dataframe thead th {\n",
       "        text-align: right;\n",
       "    }\n",
       "</style>\n",
       "<table border=\"1\" class=\"dataframe\">\n",
       "  <thead>\n",
       "    <tr style=\"text-align: right;\">\n",
       "      <th></th>\n",
       "      <th>ImageIndex</th>\n",
       "      <th>Atelectasis</th>\n",
       "      <th>Cardiomegaly</th>\n",
       "      <th>Effusion</th>\n",
       "      <th>Infiltration</th>\n",
       "      <th>Mass</th>\n",
       "      <th>Nodule</th>\n",
       "      <th>Pneumonia</th>\n",
       "      <th>Pneumothorax</th>\n",
       "      <th>Consolidation</th>\n",
       "      <th>Edema</th>\n",
       "      <th>Emphysema</th>\n",
       "      <th>Fibrosis</th>\n",
       "      <th>Pleural_Thickening</th>\n",
       "      <th>Hernia</th>\n",
       "    </tr>\n",
       "  </thead>\n",
       "  <tbody>\n",
       "    <tr>\n",
       "      <th>0</th>\n",
       "      <td>00009984_006.png</td>\n",
       "      <td>0</td>\n",
       "      <td>0</td>\n",
       "      <td>0</td>\n",
       "      <td>0</td>\n",
       "      <td>0</td>\n",
       "      <td>0</td>\n",
       "      <td>0</td>\n",
       "      <td>0</td>\n",
       "      <td>0</td>\n",
       "      <td>0</td>\n",
       "      <td>0</td>\n",
       "      <td>0</td>\n",
       "      <td>0</td>\n",
       "      <td>1</td>\n",
       "    </tr>\n",
       "    <tr>\n",
       "      <th>1</th>\n",
       "      <td>00007887_000.png</td>\n",
       "      <td>0</td>\n",
       "      <td>0</td>\n",
       "      <td>0</td>\n",
       "      <td>0</td>\n",
       "      <td>0</td>\n",
       "      <td>0</td>\n",
       "      <td>0</td>\n",
       "      <td>0</td>\n",
       "      <td>0</td>\n",
       "      <td>0</td>\n",
       "      <td>0</td>\n",
       "      <td>0</td>\n",
       "      <td>0</td>\n",
       "      <td>1</td>\n",
       "    </tr>\n",
       "    <tr>\n",
       "      <th>2</th>\n",
       "      <td>00024458_001.png</td>\n",
       "      <td>0</td>\n",
       "      <td>0</td>\n",
       "      <td>0</td>\n",
       "      <td>0</td>\n",
       "      <td>0</td>\n",
       "      <td>0</td>\n",
       "      <td>0</td>\n",
       "      <td>0</td>\n",
       "      <td>0</td>\n",
       "      <td>0</td>\n",
       "      <td>0</td>\n",
       "      <td>0</td>\n",
       "      <td>0</td>\n",
       "      <td>1</td>\n",
       "    </tr>\n",
       "    <tr>\n",
       "      <th>3</th>\n",
       "      <td>00014125_027.png</td>\n",
       "      <td>0</td>\n",
       "      <td>0</td>\n",
       "      <td>0</td>\n",
       "      <td>0</td>\n",
       "      <td>0</td>\n",
       "      <td>0</td>\n",
       "      <td>0</td>\n",
       "      <td>0</td>\n",
       "      <td>0</td>\n",
       "      <td>0</td>\n",
       "      <td>0</td>\n",
       "      <td>0</td>\n",
       "      <td>0</td>\n",
       "      <td>1</td>\n",
       "    </tr>\n",
       "    <tr>\n",
       "      <th>4</th>\n",
       "      <td>00028948_000.png</td>\n",
       "      <td>0</td>\n",
       "      <td>0</td>\n",
       "      <td>0</td>\n",
       "      <td>0</td>\n",
       "      <td>0</td>\n",
       "      <td>0</td>\n",
       "      <td>0</td>\n",
       "      <td>0</td>\n",
       "      <td>0</td>\n",
       "      <td>0</td>\n",
       "      <td>0</td>\n",
       "      <td>0</td>\n",
       "      <td>0</td>\n",
       "      <td>1</td>\n",
       "    </tr>\n",
       "  </tbody>\n",
       "</table>\n",
       "</div>"
      ],
      "text/plain": [
       "         ImageIndex  Atelectasis  Cardiomegaly  Effusion  Infiltration  Mass  \\\n",
       "0  00009984_006.png            0             0         0             0     0   \n",
       "1  00007887_000.png            0             0         0             0     0   \n",
       "2  00024458_001.png            0             0         0             0     0   \n",
       "3  00014125_027.png            0             0         0             0     0   \n",
       "4  00028948_000.png            0             0         0             0     0   \n",
       "\n",
       "   Nodule  Pneumonia  Pneumothorax  Consolidation  Edema  Emphysema  Fibrosis  \\\n",
       "0       0          0             0              0      0          0         0   \n",
       "1       0          0             0              0      0          0         0   \n",
       "2       0          0             0              0      0          0         0   \n",
       "3       0          0             0              0      0          0         0   \n",
       "4       0          0             0              0      0          0         0   \n",
       "\n",
       "   Pleural_Thickening  Hernia  \n",
       "0                   0       1  \n",
       "1                   0       1  \n",
       "2                   0       1  \n",
       "3                   0       1  \n",
       "4                   0       1  "
      ]
     },
     "execution_count": 19,
     "metadata": {},
     "output_type": "execute_result"
    }
   ],
   "source": [
    "hernia.head()"
   ]
  },
  {
   "cell_type": "code",
   "execution_count": 20,
   "metadata": {},
   "outputs": [
    {
     "name": "stdout",
     "output_type": "stream",
     "text": [
      "select count(Atelectasis) from dev_only where dev_only.Atelectasis == 1\n",
      "select count(Cardiomegaly) from dev_only where dev_only.Cardiomegaly == 1\n",
      "select count(Effusion) from dev_only where dev_only.Effusion == 1\n",
      "select count(Infiltration) from dev_only where dev_only.Infiltration == 1\n",
      "select count(Mass) from dev_only where dev_only.Mass == 1\n",
      "select count(Nodule) from dev_only where dev_only.Nodule == 1\n",
      "select count(Pneumonia) from dev_only where dev_only.Pneumonia == 1\n",
      "select count(Pneumothorax) from dev_only where dev_only.Pneumothorax == 1\n",
      "select count(Consolidation) from dev_only where dev_only.Consolidation == 1\n",
      "select count(Edema) from dev_only where dev_only.Edema == 1\n",
      "select count(Emphysema) from dev_only where dev_only.Emphysema == 1\n",
      "select count(Fibrosis) from dev_only where dev_only.Fibrosis == 1\n",
      "select count(Pleural_Thickening) from dev_only where dev_only.Pleural_Thickening == 1\n",
      "select count(Hernia) from dev_only where dev_only.Hernia == 1\n"
     ]
    }
   ],
   "source": [
    "countdev = []\n",
    "c = len(dev_onlyCols)\n",
    "for i in range(c):\n",
    "    name = dev_onlyCols[i]\n",
    "    myStr = \"select count(\"+name+\") from dev_only where dev_only.\"+name+\" == 1\"\n",
    "    print(myStr)\n",
    "    count = pysql(myStr)\n",
    "    #print(count)\n",
    "    countdev.append(int(count[\"count(\"+name+\")\"]))"
   ]
  },
  {
   "cell_type": "code",
   "execution_count": 21,
   "metadata": {},
   "outputs": [
    {
     "data": {
      "text/plain": [
       "[1119, 240, 1292, 2018, 625, 613, 133, 504, 447, 200, 208, 166, 372, 41]"
      ]
     },
     "execution_count": 21,
     "metadata": {},
     "output_type": "execute_result"
    }
   ],
   "source": [
    "countdev"
   ]
  },
  {
   "cell_type": "code",
   "execution_count": 22,
   "metadata": {},
   "outputs": [],
   "source": [
    "N = np.sum(countdev)"
   ]
  },
  {
   "cell_type": "code",
   "execution_count": 23,
   "metadata": {},
   "outputs": [
    {
     "data": {
      "text/plain": [
       "7978"
      ]
     },
     "execution_count": 23,
     "metadata": {},
     "output_type": "execute_result"
    }
   ],
   "source": [
    "N"
   ]
  },
  {
   "cell_type": "code",
   "execution_count": 24,
   "metadata": {},
   "outputs": [
    {
     "name": "stdout",
     "output_type": "stream",
     "text": [
      "select * from dev_only where dev_only.Atelectasis == 1\n",
      "select * from dev_only where dev_only.Cardiomegaly == 1\n",
      "select * from dev_only where dev_only.Effusion == 1\n",
      "select * from dev_only where dev_only.Infiltration == 1\n",
      "select * from dev_only where dev_only.Mass == 1\n",
      "select * from dev_only where dev_only.Nodule == 1\n",
      "select * from dev_only where dev_only.Pneumonia == 1\n",
      "select * from dev_only where dev_only.Pneumothorax == 1\n",
      "select * from dev_only where dev_only.Consolidation == 1\n",
      "select * from dev_only where dev_only.Edema == 1\n",
      "select * from dev_only where dev_only.Emphysema == 1\n",
      "select * from dev_only where dev_only.Fibrosis == 1\n",
      "select * from dev_only where dev_only.Pleural_Thickening == 1\n",
      "select * from dev_only where dev_only.Hernia == 1\n"
     ]
    }
   ],
   "source": [
    "import pandas as pd \n",
    "c = len(dev_onlyCols)\n",
    "for i in range(c):\n",
    "    cleanIndices = []\n",
    "    name = dev_onlyCols[i]\n",
    "    myStr = \"select * from dev_only where dev_only.\"+name+\" == 1\"\n",
    "    print(myStr)\n",
    "    theIndices = pysql(myStr)\n",
    "    theIndices.to_csv(\"notClean/\"+name+\".csv\",index=False,sep=',')"
   ]
  },
  {
   "cell_type": "code",
   "execution_count": 25,
   "metadata": {},
   "outputs": [],
   "source": [
    "hernia = pd.read_csv(\"notClean/Hernia.csv\") "
   ]
  },
  {
   "cell_type": "code",
   "execution_count": 26,
   "metadata": {},
   "outputs": [
    {
     "data": {
      "text/html": [
       "<div>\n",
       "<style scoped>\n",
       "    .dataframe tbody tr th:only-of-type {\n",
       "        vertical-align: middle;\n",
       "    }\n",
       "\n",
       "    .dataframe tbody tr th {\n",
       "        vertical-align: top;\n",
       "    }\n",
       "\n",
       "    .dataframe thead th {\n",
       "        text-align: right;\n",
       "    }\n",
       "</style>\n",
       "<table border=\"1\" class=\"dataframe\">\n",
       "  <thead>\n",
       "    <tr style=\"text-align: right;\">\n",
       "      <th></th>\n",
       "      <th>ImageIndex</th>\n",
       "      <th>Atelectasis</th>\n",
       "      <th>Cardiomegaly</th>\n",
       "      <th>Effusion</th>\n",
       "      <th>Infiltration</th>\n",
       "      <th>Mass</th>\n",
       "      <th>Nodule</th>\n",
       "      <th>Pneumonia</th>\n",
       "      <th>Pneumothorax</th>\n",
       "      <th>Consolidation</th>\n",
       "      <th>Edema</th>\n",
       "      <th>Emphysema</th>\n",
       "      <th>Fibrosis</th>\n",
       "      <th>Pleural_Thickening</th>\n",
       "      <th>Hernia</th>\n",
       "    </tr>\n",
       "  </thead>\n",
       "  <tbody>\n",
       "    <tr>\n",
       "      <th>0</th>\n",
       "      <td>00009984_006.png</td>\n",
       "      <td>0</td>\n",
       "      <td>0</td>\n",
       "      <td>0</td>\n",
       "      <td>0</td>\n",
       "      <td>0</td>\n",
       "      <td>0</td>\n",
       "      <td>0</td>\n",
       "      <td>0</td>\n",
       "      <td>0</td>\n",
       "      <td>0</td>\n",
       "      <td>0</td>\n",
       "      <td>0</td>\n",
       "      <td>0</td>\n",
       "      <td>1</td>\n",
       "    </tr>\n",
       "    <tr>\n",
       "      <th>1</th>\n",
       "      <td>00007887_000.png</td>\n",
       "      <td>0</td>\n",
       "      <td>0</td>\n",
       "      <td>0</td>\n",
       "      <td>0</td>\n",
       "      <td>0</td>\n",
       "      <td>0</td>\n",
       "      <td>0</td>\n",
       "      <td>0</td>\n",
       "      <td>0</td>\n",
       "      <td>0</td>\n",
       "      <td>0</td>\n",
       "      <td>0</td>\n",
       "      <td>0</td>\n",
       "      <td>1</td>\n",
       "    </tr>\n",
       "    <tr>\n",
       "      <th>2</th>\n",
       "      <td>00024458_001.png</td>\n",
       "      <td>0</td>\n",
       "      <td>0</td>\n",
       "      <td>0</td>\n",
       "      <td>0</td>\n",
       "      <td>0</td>\n",
       "      <td>0</td>\n",
       "      <td>0</td>\n",
       "      <td>0</td>\n",
       "      <td>0</td>\n",
       "      <td>0</td>\n",
       "      <td>0</td>\n",
       "      <td>0</td>\n",
       "      <td>0</td>\n",
       "      <td>1</td>\n",
       "    </tr>\n",
       "    <tr>\n",
       "      <th>3</th>\n",
       "      <td>00016672_003.png</td>\n",
       "      <td>1</td>\n",
       "      <td>0</td>\n",
       "      <td>1</td>\n",
       "      <td>1</td>\n",
       "      <td>0</td>\n",
       "      <td>0</td>\n",
       "      <td>0</td>\n",
       "      <td>0</td>\n",
       "      <td>0</td>\n",
       "      <td>0</td>\n",
       "      <td>0</td>\n",
       "      <td>0</td>\n",
       "      <td>0</td>\n",
       "      <td>1</td>\n",
       "    </tr>\n",
       "    <tr>\n",
       "      <th>4</th>\n",
       "      <td>00008328_000.png</td>\n",
       "      <td>0</td>\n",
       "      <td>0</td>\n",
       "      <td>0</td>\n",
       "      <td>0</td>\n",
       "      <td>0</td>\n",
       "      <td>0</td>\n",
       "      <td>0</td>\n",
       "      <td>0</td>\n",
       "      <td>0</td>\n",
       "      <td>0</td>\n",
       "      <td>1</td>\n",
       "      <td>0</td>\n",
       "      <td>1</td>\n",
       "      <td>1</td>\n",
       "    </tr>\n",
       "  </tbody>\n",
       "</table>\n",
       "</div>"
      ],
      "text/plain": [
       "         ImageIndex  Atelectasis  Cardiomegaly  Effusion  Infiltration  Mass  \\\n",
       "0  00009984_006.png            0             0         0             0     0   \n",
       "1  00007887_000.png            0             0         0             0     0   \n",
       "2  00024458_001.png            0             0         0             0     0   \n",
       "3  00016672_003.png            1             0         1             1     0   \n",
       "4  00008328_000.png            0             0         0             0     0   \n",
       "\n",
       "   Nodule  Pneumonia  Pneumothorax  Consolidation  Edema  Emphysema  Fibrosis  \\\n",
       "0       0          0             0              0      0          0         0   \n",
       "1       0          0             0              0      0          0         0   \n",
       "2       0          0             0              0      0          0         0   \n",
       "3       0          0             0              0      0          0         0   \n",
       "4       0          0             0              0      0          1         0   \n",
       "\n",
       "   Pleural_Thickening  Hernia  \n",
       "0                   0       1  \n",
       "1                   0       1  \n",
       "2                   0       1  \n",
       "3                   0       1  \n",
       "4                   1       1  "
      ]
     },
     "execution_count": 26,
     "metadata": {},
     "output_type": "execute_result"
    }
   ],
   "source": [
    "hernia.head()"
   ]
  },
  {
   "cell_type": "code",
   "execution_count": 27,
   "metadata": {},
   "outputs": [
    {
     "name": "stdout",
     "output_type": "stream",
     "text": [
      "0 \n",
      "select * from dev_only where dev_only.Atelectasis != 0 or \n",
      "1 \n",
      "select * from dev_only where dev_only.Atelectasis != 0 or dev_only.Cardiomegaly != 0 or \n",
      "2 \n",
      "select * from dev_only where dev_only.Atelectasis != 0 or dev_only.Cardiomegaly != 0 or dev_only.Effusion != 0 or \n",
      "3 \n",
      "select * from dev_only where dev_only.Atelectasis != 0 or dev_only.Cardiomegaly != 0 or dev_only.Effusion != 0 or dev_only.Infiltration != 0 or \n",
      "4 \n",
      "select * from dev_only where dev_only.Atelectasis != 0 or dev_only.Cardiomegaly != 0 or dev_only.Effusion != 0 or dev_only.Infiltration != 0 or dev_only.Mass != 0 or \n",
      "5 \n",
      "select * from dev_only where dev_only.Atelectasis != 0 or dev_only.Cardiomegaly != 0 or dev_only.Effusion != 0 or dev_only.Infiltration != 0 or dev_only.Mass != 0 or dev_only.Nodule != 0 or \n",
      "6 \n",
      "select * from dev_only where dev_only.Atelectasis != 0 or dev_only.Cardiomegaly != 0 or dev_only.Effusion != 0 or dev_only.Infiltration != 0 or dev_only.Mass != 0 or dev_only.Nodule != 0 or dev_only.Pneumonia != 0 or \n",
      "7 \n",
      "select * from dev_only where dev_only.Atelectasis != 0 or dev_only.Cardiomegaly != 0 or dev_only.Effusion != 0 or dev_only.Infiltration != 0 or dev_only.Mass != 0 or dev_only.Nodule != 0 or dev_only.Pneumonia != 0 or dev_only.Pneumothorax != 0 or \n",
      "8 \n",
      "select * from dev_only where dev_only.Atelectasis != 0 or dev_only.Cardiomegaly != 0 or dev_only.Effusion != 0 or dev_only.Infiltration != 0 or dev_only.Mass != 0 or dev_only.Nodule != 0 or dev_only.Pneumonia != 0 or dev_only.Pneumothorax != 0 or dev_only.Consolidation != 0 or \n",
      "9 \n",
      "select * from dev_only where dev_only.Atelectasis != 0 or dev_only.Cardiomegaly != 0 or dev_only.Effusion != 0 or dev_only.Infiltration != 0 or dev_only.Mass != 0 or dev_only.Nodule != 0 or dev_only.Pneumonia != 0 or dev_only.Pneumothorax != 0 or dev_only.Consolidation != 0 or dev_only.Edema != 0 or \n",
      "10 \n",
      "select * from dev_only where dev_only.Atelectasis != 0 or dev_only.Cardiomegaly != 0 or dev_only.Effusion != 0 or dev_only.Infiltration != 0 or dev_only.Mass != 0 or dev_only.Nodule != 0 or dev_only.Pneumonia != 0 or dev_only.Pneumothorax != 0 or dev_only.Consolidation != 0 or dev_only.Edema != 0 or dev_only.Emphysema != 0 or \n",
      "11 \n",
      "select * from dev_only where dev_only.Atelectasis != 0 or dev_only.Cardiomegaly != 0 or dev_only.Effusion != 0 or dev_only.Infiltration != 0 or dev_only.Mass != 0 or dev_only.Nodule != 0 or dev_only.Pneumonia != 0 or dev_only.Pneumothorax != 0 or dev_only.Consolidation != 0 or dev_only.Edema != 0 or dev_only.Emphysema != 0 or dev_only.Fibrosis != 0 or \n",
      "12 \n",
      "select * from dev_only where dev_only.Atelectasis != 0 or dev_only.Cardiomegaly != 0 or dev_only.Effusion != 0 or dev_only.Infiltration != 0 or dev_only.Mass != 0 or dev_only.Nodule != 0 or dev_only.Pneumonia != 0 or dev_only.Pneumothorax != 0 or dev_only.Consolidation != 0 or dev_only.Edema != 0 or dev_only.Emphysema != 0 or dev_only.Fibrosis != 0 or dev_only.Pleural_Thickening != 0 or \n",
      "13 \n",
      "select * from dev_only where dev_only.Atelectasis != 0 or dev_only.Cardiomegaly != 0 or dev_only.Effusion != 0 or dev_only.Infiltration != 0 or dev_only.Mass != 0 or dev_only.Nodule != 0 or dev_only.Pneumonia != 0 or dev_only.Pneumothorax != 0 or dev_only.Consolidation != 0 or dev_only.Edema != 0 or dev_only.Emphysema != 0 or dev_only.Fibrosis != 0 or dev_only.Pleural_Thickening != 0 or dev_only.Hernia != 0\n"
     ]
    }
   ],
   "source": [
    "import pandas as pd \n",
    "c = len(dev_onlyCols)\n",
    "myStr = \"select * from dev_only where \" \n",
    "for i in range(c):\n",
    "    name = dev_onlyCols[i]\n",
    "    tmp2 = \"dev_only.\"+name+\" != 0\"\n",
    "    if i < (c-1):\n",
    "        tmp2 = tmp2 + \" or \"\n",
    "    myStr = myStr + tmp2\n",
    "    print(str(i) + \" \")\n",
    "    print(myStr)\n",
    "theIndices = pysql(myStr)\n",
    "theIndices.to_csv(\"notClean/devWithoutNormal.csv\",index=False,sep=',')"
   ]
  },
  {
   "cell_type": "code",
   "execution_count": 28,
   "metadata": {},
   "outputs": [],
   "source": [
    "withoutNormal = pd.read_csv(\"notClean/devWithoutNormal.csv\") "
   ]
  },
  {
   "cell_type": "code",
   "execution_count": 29,
   "metadata": {},
   "outputs": [
    {
     "data": {
      "text/html": [
       "<div>\n",
       "<style scoped>\n",
       "    .dataframe tbody tr th:only-of-type {\n",
       "        vertical-align: middle;\n",
       "    }\n",
       "\n",
       "    .dataframe tbody tr th {\n",
       "        vertical-align: top;\n",
       "    }\n",
       "\n",
       "    .dataframe thead th {\n",
       "        text-align: right;\n",
       "    }\n",
       "</style>\n",
       "<table border=\"1\" class=\"dataframe\">\n",
       "  <thead>\n",
       "    <tr style=\"text-align: right;\">\n",
       "      <th></th>\n",
       "      <th>ImageIndex</th>\n",
       "      <th>Atelectasis</th>\n",
       "      <th>Cardiomegaly</th>\n",
       "      <th>Effusion</th>\n",
       "      <th>Infiltration</th>\n",
       "      <th>Mass</th>\n",
       "      <th>Nodule</th>\n",
       "      <th>Pneumonia</th>\n",
       "      <th>Pneumothorax</th>\n",
       "      <th>Consolidation</th>\n",
       "      <th>Edema</th>\n",
       "      <th>Emphysema</th>\n",
       "      <th>Fibrosis</th>\n",
       "      <th>Pleural_Thickening</th>\n",
       "      <th>Hernia</th>\n",
       "    </tr>\n",
       "  </thead>\n",
       "  <tbody>\n",
       "    <tr>\n",
       "      <th>0</th>\n",
       "      <td>00030605_000.png</td>\n",
       "      <td>0</td>\n",
       "      <td>0</td>\n",
       "      <td>0</td>\n",
       "      <td>1</td>\n",
       "      <td>0</td>\n",
       "      <td>0</td>\n",
       "      <td>0</td>\n",
       "      <td>0</td>\n",
       "      <td>0</td>\n",
       "      <td>0</td>\n",
       "      <td>0</td>\n",
       "      <td>0</td>\n",
       "      <td>0</td>\n",
       "      <td>0</td>\n",
       "    </tr>\n",
       "    <tr>\n",
       "      <th>1</th>\n",
       "      <td>00018696_000.png</td>\n",
       "      <td>0</td>\n",
       "      <td>0</td>\n",
       "      <td>0</td>\n",
       "      <td>1</td>\n",
       "      <td>0</td>\n",
       "      <td>0</td>\n",
       "      <td>0</td>\n",
       "      <td>0</td>\n",
       "      <td>0</td>\n",
       "      <td>0</td>\n",
       "      <td>0</td>\n",
       "      <td>0</td>\n",
       "      <td>0</td>\n",
       "      <td>0</td>\n",
       "    </tr>\n",
       "    <tr>\n",
       "      <th>2</th>\n",
       "      <td>00008473_002.png</td>\n",
       "      <td>0</td>\n",
       "      <td>0</td>\n",
       "      <td>0</td>\n",
       "      <td>0</td>\n",
       "      <td>0</td>\n",
       "      <td>0</td>\n",
       "      <td>0</td>\n",
       "      <td>0</td>\n",
       "      <td>0</td>\n",
       "      <td>0</td>\n",
       "      <td>1</td>\n",
       "      <td>0</td>\n",
       "      <td>0</td>\n",
       "      <td>0</td>\n",
       "    </tr>\n",
       "    <tr>\n",
       "      <th>3</th>\n",
       "      <td>00008473_003.png</td>\n",
       "      <td>0</td>\n",
       "      <td>0</td>\n",
       "      <td>0</td>\n",
       "      <td>0</td>\n",
       "      <td>0</td>\n",
       "      <td>0</td>\n",
       "      <td>0</td>\n",
       "      <td>0</td>\n",
       "      <td>0</td>\n",
       "      <td>0</td>\n",
       "      <td>1</td>\n",
       "      <td>0</td>\n",
       "      <td>0</td>\n",
       "      <td>0</td>\n",
       "    </tr>\n",
       "    <tr>\n",
       "      <th>4</th>\n",
       "      <td>00008473_004.png</td>\n",
       "      <td>0</td>\n",
       "      <td>0</td>\n",
       "      <td>0</td>\n",
       "      <td>0</td>\n",
       "      <td>0</td>\n",
       "      <td>0</td>\n",
       "      <td>0</td>\n",
       "      <td>1</td>\n",
       "      <td>0</td>\n",
       "      <td>0</td>\n",
       "      <td>0</td>\n",
       "      <td>0</td>\n",
       "      <td>0</td>\n",
       "      <td>0</td>\n",
       "    </tr>\n",
       "  </tbody>\n",
       "</table>\n",
       "</div>"
      ],
      "text/plain": [
       "         ImageIndex  Atelectasis  Cardiomegaly  Effusion  Infiltration  Mass  \\\n",
       "0  00030605_000.png            0             0         0             1     0   \n",
       "1  00018696_000.png            0             0         0             1     0   \n",
       "2  00008473_002.png            0             0         0             0     0   \n",
       "3  00008473_003.png            0             0         0             0     0   \n",
       "4  00008473_004.png            0             0         0             0     0   \n",
       "\n",
       "   Nodule  Pneumonia  Pneumothorax  Consolidation  Edema  Emphysema  Fibrosis  \\\n",
       "0       0          0             0              0      0          0         0   \n",
       "1       0          0             0              0      0          0         0   \n",
       "2       0          0             0              0      0          1         0   \n",
       "3       0          0             0              0      0          1         0   \n",
       "4       0          0             1              0      0          0         0   \n",
       "\n",
       "   Pleural_Thickening  Hernia  \n",
       "0                   0       0  \n",
       "1                   0       0  \n",
       "2                   0       0  \n",
       "3                   0       0  \n",
       "4                   0       0  "
      ]
     },
     "execution_count": 29,
     "metadata": {},
     "output_type": "execute_result"
    }
   ],
   "source": [
    "withoutNormal.head()"
   ]
  },
  {
   "cell_type": "code",
   "execution_count": null,
   "metadata": {},
   "outputs": [],
   "source": []
  }
 ],
 "metadata": {
  "kernelspec": {
   "display_name": "Python 3",
   "language": "python",
   "name": "python3"
  },
  "language_info": {
   "codemirror_mode": {
    "name": "ipython",
    "version": 3
   },
   "file_extension": ".py",
   "mimetype": "text/x-python",
   "name": "python",
   "nbconvert_exporter": "python",
   "pygments_lexer": "ipython3",
   "version": "3.7.5"
  }
 },
 "nbformat": 4,
 "nbformat_minor": 2
}
