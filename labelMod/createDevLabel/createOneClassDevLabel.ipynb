{
 "cells": [
  {
   "cell_type": "code",
   "execution_count": 1,
   "metadata": {},
   "outputs": [],
   "source": [
    "import pandas as pd \n",
    "import matplotlib.pyplot as plt\n",
    "import numpy as np\n",
    "import pandasql as pdsql\n",
    "%matplotlib inline\n",
    "dev_only = pd.read_csv(\"dev.csv\") "
   ]
  },
  {
   "cell_type": "code",
   "execution_count": 2,
   "metadata": {},
   "outputs": [],
   "source": [
    "pysql = lambda q: pdsql.sqldf(q, globals())"
   ]
  },
  {
   "cell_type": "code",
   "execution_count": 3,
   "metadata": {},
   "outputs": [],
   "source": [
    "dev_only.columns = dev_only.columns.str.replace(' ', '')"
   ]
  },
  {
   "cell_type": "code",
   "execution_count": 4,
   "metadata": {},
   "outputs": [
    {
     "data": {
      "text/plain": [
       "'ImageIndex'"
      ]
     },
     "execution_count": 4,
     "metadata": {},
     "output_type": "execute_result"
    }
   ],
   "source": [
    "dev_onlyCols = list(dev_only.columns.values)\n",
    "dev_onlyCols.pop(0)"
   ]
  },
  {
   "cell_type": "code",
   "execution_count": 5,
   "metadata": {},
   "outputs": [
    {
     "name": "stdout",
     "output_type": "stream",
     "text": [
      "select * from dev_only where dev_only.Atelectasis == 1\n",
      "select * from dev_only where dev_only.Cardiomegaly == 1\n",
      "select * from dev_only where dev_only.Effusion == 1\n",
      "select * from dev_only where dev_only.Infiltration == 1\n",
      "select * from dev_only where dev_only.Mass == 1\n",
      "select * from dev_only where dev_only.Nodule == 1\n",
      "select * from dev_only where dev_only.Pneumonia == 1\n",
      "select * from dev_only where dev_only.Pneumothorax == 1\n",
      "select * from dev_only where dev_only.Consolidation == 1\n",
      "select * from dev_only where dev_only.Edema == 1\n",
      "select * from dev_only where dev_only.Emphysema == 1\n",
      "select * from dev_only where dev_only.Fibrosis == 1\n",
      "select * from dev_only where dev_only.Pleural_Thickening == 1\n",
      "select * from dev_only where dev_only.Hernia == 1\n"
     ]
    }
   ],
   "source": [
    "import pandas as pd \n",
    "c = len(dev_onlyCols)\n",
    "for i in range(c):\n",
    "    cleanIndices = []\n",
    "    name = dev_onlyCols[i]\n",
    "    myStr = \"select * from dev_only where dev_only.\"+name+\" == 1\"\n",
    "    print(myStr)\n",
    "    theIndices = pysql(myStr)\n",
    "    theIndices.to_csv(\"oneClasslabel/\"+name+\".csv\",index=False,sep=',')"
   ]
  }
 ],
 "metadata": {
  "kernelspec": {
   "display_name": "Python 3",
   "language": "python",
   "name": "python3"
  },
  "language_info": {
   "codemirror_mode": {
    "name": "ipython",
    "version": 3
   },
   "file_extension": ".py",
   "mimetype": "text/x-python",
   "name": "python",
   "nbconvert_exporter": "python",
   "pygments_lexer": "ipython3",
   "version": "3.7.5"
  }
 },
 "nbformat": 4,
 "nbformat_minor": 2
}
