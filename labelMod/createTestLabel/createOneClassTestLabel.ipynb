{
 "cells": [
  {
   "cell_type": "code",
   "execution_count": 1,
   "metadata": {},
   "outputs": [],
   "source": [
    "import pandas as pd \n",
    "import matplotlib.pyplot as plt\n",
    "import numpy as np\n",
    "import pandasql as pdsql\n",
    "%matplotlib inline\n",
    "test_only = pd.read_csv(\"test.csv\") "
   ]
  },
  {
   "cell_type": "code",
   "execution_count": 2,
   "metadata": {},
   "outputs": [],
   "source": [
    "pysql = lambda q: pdsql.sqldf(q, globals())"
   ]
  },
  {
   "cell_type": "code",
   "execution_count": 3,
   "metadata": {},
   "outputs": [],
   "source": [
    "test_only.columns = test_only.columns.str.replace(' ', '')"
   ]
  },
  {
   "cell_type": "code",
   "execution_count": 4,
   "metadata": {},
   "outputs": [
    {
     "data": {
      "text/plain": [
       "'ImageIndex'"
      ]
     },
     "execution_count": 4,
     "metadata": {},
     "output_type": "execute_result"
    }
   ],
   "source": [
    "test_onlyCols = list(test_only.columns.values)\n",
    "test_onlyCols.pop(0)"
   ]
  },
  {
   "cell_type": "code",
   "execution_count": 5,
   "metadata": {},
   "outputs": [
    {
     "name": "stdout",
     "output_type": "stream",
     "text": [
      "select * from test_only where test_only.Atelectasis == 1\n",
      "select * from test_only where test_only.Cardiomegaly == 1\n",
      "select * from test_only where test_only.Effusion == 1\n",
      "select * from test_only where test_only.Infiltration == 1\n",
      "select * from test_only where test_only.Mass == 1\n",
      "select * from test_only where test_only.Nodule == 1\n",
      "select * from test_only where test_only.Pneumonia == 1\n",
      "select * from test_only where test_only.Pneumothorax == 1\n",
      "select * from test_only where test_only.Consolidation == 1\n",
      "select * from test_only where test_only.Edema == 1\n",
      "select * from test_only where test_only.Emphysema == 1\n",
      "select * from test_only where test_only.Fibrosis == 1\n",
      "select * from test_only where test_only.Pleural_Thickening == 1\n",
      "select * from test_only where test_only.Hernia == 1\n"
     ]
    }
   ],
   "source": [
    "import pandas as pd \n",
    "c = len(test_onlyCols)\n",
    "for i in range(c):\n",
    "    cleanIndices = []\n",
    "    name = test_onlyCols[i]\n",
    "    myStr = \"select * from test_only where test_only.\"+name+\" == 1\"\n",
    "    print(myStr)\n",
    "    theIndices = pysql(myStr)\n",
    "    theIndices.to_csv(\"oneClasslabel/\"+name+\".csv\",index=False,sep=',')"
   ]
  }
 ],
 "metadata": {
  "kernelspec": {
   "display_name": "Python 3",
   "language": "python",
   "name": "python3"
  },
  "language_info": {
   "codemirror_mode": {
    "name": "ipython",
    "version": 3
   },
   "file_extension": ".py",
   "mimetype": "text/x-python",
   "name": "python",
   "nbconvert_exporter": "python",
   "pygments_lexer": "ipython3",
   "version": "3.7.5"
  }
 },
 "nbformat": 4,
 "nbformat_minor": 2
}
